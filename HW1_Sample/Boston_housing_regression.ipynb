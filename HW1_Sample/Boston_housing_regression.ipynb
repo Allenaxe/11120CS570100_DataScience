{
 "cells": [
  {
   "cell_type": "code",
   "execution_count": null,
   "metadata": {},
   "outputs": [],
   "source": [
    "import matplotlib.pyplot as plt\n",
    "import numpy as np\n",
    "import pandas as pd\n",
    "from sklearn.linear_model import Lasso, LinearRegression, Ridge\n",
    "from sklearn.model_selection import cross_val_score, train_test_split\n",
    "from sklearn.metrics import r2_score, mean_squared_error\n",
    "from sklearn.preprocessing import StandardScaler\n",
    "from sklearn.preprocessing import PolynomialFeatures"
   ]
  },
  {
   "cell_type": "code",
   "execution_count": null,
   "metadata": {},
   "outputs": [],
   "source": [
    "df = pd.read_csv('Bos_Housing.csv')\n",
    "X = df.drop('price', axis=1).values\n",
    "y = df['price'].values\n",
    "X_train, X_test, y_train, y_test = train_test_split(X, y, test_size=0.2, random_state=0)\n",
    "print('Training Data:', X_train.shape[0])\n",
    "print('Testing Data:', X_test.shape[0])"
   ]
  },
  {
   "cell_type": "code",
   "execution_count": null,
   "metadata": {},
   "outputs": [],
   "source": [
    "X_rm = df['rm'].values[:, np.newaxis]\n",
    "y = df['price'].values\n",
    "\n",
    "slr = LinearRegression()\n",
    "slr.fit(X_rm, y)\n",
    "\n",
    "y_train_pred = slr.predict(X_rm)\n",
    "\n",
    "print(f'Slope (w_1): {slr.coef_[0]:.2f}')\n",
    "print(f'Intercept/bias (w_0): {slr.intercept_:.2f}')"
   ]
  },
  {
   "cell_type": "code",
   "execution_count": null,
   "metadata": {},
   "outputs": [],
   "source": [
    "def lin_regplot(X, y, model):\n",
    "    plt.scatter(X, y, c='blue')\n",
    "    plt.plot(X, model.predict(X), color='red', linewidth=2)\n",
    "\n",
    "lin_regplot(X_rm, y, slr)\n",
    "plt.xlabel('Average number of rooms [RM]')\n",
    "plt.ylabel('[PRICE]')\n",
    "plt.tight_layout()\n",
    "plt.show()"
   ]
  },
  {
   "cell_type": "code",
   "execution_count": null,
   "metadata": {},
   "outputs": [],
   "source": [
    "sc = StandardScaler()\n",
    "sc.fit(X_train)\n",
    "X_train_std = sc.transform(X_train)\n",
    "X_test_std = sc.transform(X_test)\n",
    "\n",
    "slr = LinearRegression()\n",
    "slr.fit(X_train_std, y_train)\n",
    "\n",
    "y_train_pred = slr.predict(X_train_std)\n",
    "y_test_pred = slr.predict(X_test_std)\n",
    "\n",
    "print(f'(MSE) train: {mean_squared_error(y_train,y_train_pred):.2f}, test: {mean_squared_error(y_test,y_test_pred):.2f}')\n",
    "print(f'(R^2) train: {r2_score(y_train,y_train_pred):.2f}, test: {r2_score(y_test,y_test_pred):.2f}')"
   ]
  },
  {
   "cell_type": "code",
   "execution_count": null,
   "metadata": {},
   "outputs": [],
   "source": [
    "plt.scatter(\n",
    "    y_train_pred,\n",
    "    y_train_pred - y_train,\n",
    "    c='blue',\n",
    "    marker='o',\n",
    "    label='Training data')\n",
    "plt.scatter(\n",
    "    y_test_pred,\n",
    "    y_test_pred - y_test,\n",
    "    c='lightgreen',\n",
    "    marker='s',\n",
    "    label='Test data')\n",
    "plt.xlabel('Predicted values')\n",
    "plt.ylabel('Residuals')\n",
    "plt.legend(loc='upper left')\n",
    "plt.hlines(y=0, xmin=-10, xmax=50, lw=2, color='red')\n",
    "plt.xlim([-10, 50])\n",
    "plt.tight_layout()\n",
    "plt.show()"
   ]
  },
  {
   "cell_type": "code",
   "execution_count": null,
   "metadata": {},
   "outputs": [],
   "source": [
    "lin_regr = LinearRegression()\n",
    "quad_regr = LinearRegression()\n",
    "cubic_regr = LinearRegression()\n",
    "\n",
    "quadratic = PolynomialFeatures(degree = 2)\n",
    "cubic = PolynomialFeatures(degree = 3)\n",
    "\n",
    "X_quad_train = quadratic.fit_transform(X_train_std)\n",
    "X_quad_test = quadratic.fit_transform(X_test_std)\n",
    "X_cubic_train = cubic.fit_transform(X_train_std)\n",
    "X_cubic_test = cubic.fit_transform(X_test_std)\n",
    "# print(len(X_train_std[0]), len(X_quad_train[0]), len(X_cubic_train[0]))\n",
    "\n",
    "lin_regr.fit(X_train_std, y_train)\n",
    "linear_r2_train = r2_score(y_train, lin_regr.predict(X_train_std))\n",
    "linear_r2_test = r2_score(y_test, lin_regr.predict(X_test_std))\n",
    "\n",
    "quad_regr.fit(X_quad_train, y_train)\n",
    "quad_r2_train = r2_score(y_train, quad_regr.predict(X_quad_train))\n",
    "quad_r2_test = r2_score(y_test, quad_regr.predict(X_quad_test))\n",
    "\n",
    "cubic_regr.fit(X_cubic_train, y_train)\n",
    "cubic_r2_train = r2_score(y_train, cubic_regr.predict(X_cubic_train))\n",
    "cubic_r2_test = r2_score(y_test, cubic_regr.predict(X_cubic_test))\n",
    "\n",
    "print('(R^2) train:\\ndegree=1: %.2f, degree=2: %.2f, degree=3: %.2f'%\n",
    "      (linear_r2_train, quad_r2_train, cubic_r2_train))\n",
    "print('(R^2) test:\\ndegree=1: %.2f, degree=2: %.2f, degree=3: %.2f'%\n",
    "      (linear_r2_test, quad_r2_test, cubic_r2_test))"
   ]
  },
  {
   "cell_type": "code",
   "execution_count": null,
   "metadata": {},
   "outputs": [],
   "source": [
    "ridgeReg = Ridge(alpha=0.05, normalize=True)\n",
    "ridgeReg.fit(X_cubic_train, y_train)\n",
    "\n",
    "y_train_pred = ridgeReg.predict(X_cubic_train)\n",
    "y_test_pred = ridgeReg.predict(X_cubic_test)\n",
    "\n",
    "print('(MSE) train: %.2f, test: %.2f'%\n",
    "      (mean_squared_error(y_train,y_train_pred), \n",
    "       mean_squared_error(y_test,y_test_pred)))\n",
    "print('(R^2) train: %.2f, test: %.2f'%\n",
    "      (r2_score(y_train,y_train_pred), \n",
    "       r2_score(y_test,y_test_pred)))"
   ]
  },
  {
   "cell_type": "code",
   "execution_count": null,
   "metadata": {},
   "outputs": [],
   "source": [
    "from sklearn.model_selection import cross_val_score\n",
    "alpha_space = np.logspace(-4, 0, 50)\n",
    "ridge_scores = []\n",
    "ridge_scores_std = []\n",
    "for alpha in alpha_space:\n",
    "    ridge = Ridge(alpha=alpha, normalize=True)\n",
    "    ridge_cv_scores = cross_val_score(ridge, X_cubic_train, y_train, cv=10)\n",
    "    ridge_scores.append(np.mean(ridge_cv_scores))\n",
    "    ridge_scores_std.append(np.std(ridge_cv_scores))"
   ]
  },
  {
   "cell_type": "code",
   "execution_count": null,
   "metadata": {},
   "outputs": [],
   "source": [
    "def display_plot(cv_scores, cv_scores_std):\n",
    "    fig = plt.figure()\n",
    "    ax = fig.add_subplot(1,1,1)\n",
    "    ax.plot(alpha_space, cv_scores)\n",
    "    std_error = cv_scores_std/ np.sqrt(10)\n",
    "    ax.fill_between(alpha_space, cv_scores + std_error, cv_scores - std_error,color=\"c\", alpha=0.2)\n",
    "    ax.set_ylabel('CV R^2 Score +/- Std Error')\n",
    "    ax.set_xlabel('Alpha')\n",
    "    ax.axhline(np.max(cv_scores), linestyle='--', color='.5')\n",
    "    ax.set_xlim([alpha_space[0], alpha_space[-1]])\n",
    "    ax.set_xscale('log')\n",
    "    plt.show()\n",
    "    print('(R^2) max score:', np.max(cv_scores))    \n",
    "    \n",
    "display_plot(ridge_scores, ridge_scores_std)"
   ]
  },
  {
   "cell_type": "code",
   "execution_count": null,
   "metadata": {},
   "outputs": [],
   "source": [
    "lassoReg = Lasso(alpha=0.05, normalize=True)\n",
    "lassoReg.fit(X_cubic_train, y_train)\n",
    "\n",
    "y_train_pred = lassoReg.predict(X_cubic_train)\n",
    "y_test_pred = lassoReg.predict(X_cubic_test)\n",
    "\n",
    "print('(MSE) train: %.2f, test: %.2f'%\n",
    "      (mean_squared_error(y_train,y_train_pred), \n",
    "       mean_squared_error(y_test,y_test_pred)))\n",
    "print('(R^2) train: %.2f, test: %.2f'%\n",
    "      (r2_score(y_train,y_train_pred), \n",
    "       r2_score(y_test,y_test_pred)))"
   ]
  },
  {
   "cell_type": "code",
   "execution_count": null,
   "metadata": {},
   "outputs": [],
   "source": [
    "alpha_space = np.logspace(-4, 0, 50)\n",
    "lasso_scores = []\n",
    "lasso_scores_std = []\n",
    "lasso = Lasso(normalize=True)\n",
    "for alpha in alpha_space:\n",
    "    lasso.alpha = alpha\n",
    "    lasso_cv_scores = cross_val_score(lasso, X_cubic_train, y_train, cv=10)\n",
    "    lasso_scores.append(np.mean(lasso_cv_scores))\n",
    "    lasso_scores_std.append(np.std(lasso_cv_scores))"
   ]
  },
  {
   "cell_type": "code",
   "execution_count": null,
   "metadata": {},
   "outputs": [],
   "source": [
    "def display_plot(cv_scores, cv_scores_std):\n",
    "    fig = plt.figure()\n",
    "    ax = fig.add_subplot(1,1,1)\n",
    "    ax.plot(alpha_space, cv_scores)\n",
    "    std_error = np.array(cv_scores_std) / np.sqrt(10)\n",
    "    ax.fill_between(alpha_space, cv_scores + std_error, cv_scores - std_error,color=\"c\", alpha=0.2)\n",
    "    ax.set_ylabel('CV R^2 Score +/- Std Error')\n",
    "    ax.set_xlabel('Alpha')\n",
    "    ax.axhline(np.max(cv_scores), linestyle='--', color='.5')\n",
    "    ax.set_xlim([alpha_space[0], alpha_space[-1]])\n",
    "    ax.set_xscale('log')\n",
    "    plt.show()\n",
    "    print('(R^2) max score:', np.max(cv_scores))    \n",
    "    \n",
    "display_plot(lasso_scores, lasso_scores_std)"
   ]
  }
 ],
 "metadata": {
  "kernelspec": {
   "display_name": "Python 3",
   "language": "python",
   "name": "python3"
  },
  "language_info": {
   "codemirror_mode": {
    "name": "ipython",
    "version": 3
   },
   "file_extension": ".py",
   "mimetype": "text/x-python",
   "name": "python",
   "nbconvert_exporter": "python",
   "pygments_lexer": "ipython3",
   "version": "3.9.7"
  }
 },
 "nbformat": 4,
 "nbformat_minor": 2
}
