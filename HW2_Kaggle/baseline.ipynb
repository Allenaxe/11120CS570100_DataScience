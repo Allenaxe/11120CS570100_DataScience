{
 "cells": [
  {
   "cell_type": "code",
   "execution_count": 153,
   "metadata": {},
   "outputs": [],
   "source": [
    "import pandas as pd\n",
    "import numpy as np\n",
    "import matplotlib.pyplot as plt\n",
    "from sklearn.preprocessing import StandardScaler\n",
    "from sklearn.decomposition import PCA\n",
    "from imblearn.over_sampling import SMOTE\n",
    "from imblearn.combine import SMOTEENN\n",
    "from imblearn.combine import SMOTETomek\n",
    "from imblearn.under_sampling import RandomUnderSampler\n",
    "from sklearn.metrics import accuracy_score, f1_score"
   ]
  },
  {
   "cell_type": "code",
   "execution_count": 154,
   "metadata": {},
   "outputs": [],
   "source": [
    "train = pd.read_csv('train.csv')\n",
    "test = pd.read_csv('test.csv')\n",
    "test['Weather'] = np.zeros((len(test),))\n",
    "\n",
    "train_end_idx = len(train)\n",
    "test_end_idx = len(test)\n",
    "\n",
    "train = pd.concat([train, test], sort = False)"
   ]
  },
  {
   "cell_type": "code",
   "execution_count": 155,
   "metadata": {},
   "outputs": [
    {
     "data": {
      "text/plain": [
       "Date              14057\n",
       "Loc               14117\n",
       "TempLow           13918\n",
       "TempHigh          13826\n",
       "Steaming          13981\n",
       "Sun               14046\n",
       "WindDir           17389\n",
       "WindSpeed         13834\n",
       "DayWindDir        17874\n",
       "NightWindDir      15448\n",
       "DayWindSpeed      14029\n",
       "NightWindSpeed    13928\n",
       "DayHumidity       14056\n",
       "NightHumidity     14056\n",
       "DayPressure       13964\n",
       "NightPressure     14104\n",
       "DayCloud          13910\n",
       "NightCloud        13936\n",
       "DayTemp           14030\n",
       "NightTemp         13937\n",
       "Weather               0\n",
       "RISK_MM           13871\n",
       "dtype: int64"
      ]
     },
     "execution_count": 155,
     "metadata": {},
     "output_type": "execute_result"
    }
   ],
   "source": [
    "train.isnull().sum()"
   ]
  },
  {
   "cell_type": "code",
   "execution_count": 156,
   "metadata": {},
   "outputs": [
    {
     "name": "stdout",
     "output_type": "stream",
     "text": [
      "(70000, 22)\n"
     ]
    },
    {
     "data": {
      "image/png": "[encoded data removed]",
      "text/plain": [
       "<Figure size 640x480 with 1 Axes>"
      ]
     },
     "metadata": {},
     "output_type": "display_data"
    }
   ],
   "source": [
    "#train = train.drop(columns = 'RISK_MM')\n",
    "naVariable = pd.isna(train).sum() / train.shape[0]\n",
    "plt.hist(x = naVariable,\n",
    "         bins = 10,\n",
    "         color = 'steelblue',\n",
    "         edgecolor = 'black'\n",
    "         )\n",
    "print(train.shape)"
   ]
  },
  {
   "cell_type": "code",
   "execution_count": 157,
   "metadata": {},
   "outputs": [
    {
     "data": {
      "text/plain": [
       "'\\nfor nominal in list(train.dtypes[train.dtypes == object].index):\\n    class_mapping = {label:idx for idx,label in enumerate(set(train[nominal]))}\\n    train[nominal] = train[nominal].map(class_mapping)\\ntrain = train.apply(lambda x: (x - np.min(x)) / (np.max(x) - np.min(x)))\\n'"
      ]
     },
     "execution_count": 157,
     "metadata": {},
     "output_type": "execute_result"
    }
   ],
   "source": [
    "#train['Date'] = pd.to_datetime(train['Date'])\n",
    "#train['Year'] = train['Date'].dt.year\n",
    "#train['Month'] = train['Date'].dt.month\n",
    "#train['Day'] = train['Date'].dt.day\n",
    "#train = train.drop(columns = 'Date')\n",
    "#train = train.drop(columns = 'RISK_MM')\n",
    "train = pd.concat([train, pd.get_dummies(train['Loc'])], axis = 1)\n",
    "train = pd.concat([train, pd.get_dummies(train['WindDir'], prefix = 'WindDir')], axis = 1)\n",
    "train = pd.concat([train, pd.get_dummies(train['DayWindDir'], prefix = 'DayWindDir')], axis = 1)\n",
    "train = pd.concat([train, pd.get_dummies(train['NightWindDir'], prefix = 'NightWindDir')], axis = 1)\n",
    "\n",
    "'''\n",
    "for nominal in list(train.dtypes[train.dtypes == object].index):\n",
    "    class_mapping = {label:idx for idx,label in enumerate(set(train[nominal]))}\n",
    "    train[nominal] = train[nominal].map(class_mapping)\n",
    "train = train.apply(lambda x: (x - np.min(x)) / (np.max(x) - np.min(x)))\n",
    "'''\n"
   ]
  },
  {
   "cell_type": "code",
   "execution_count": 158,
   "metadata": {},
   "outputs": [],
   "source": [
    "\n",
    "from sklearn.impute import SimpleImputer\n",
    "# 將非數值欄位拿掉\n",
    "train = train.drop(columns = [col for col in train.columns if train[col].dtype == object])\n",
    "\n",
    "imr = SimpleImputer(missing_values = np.nan, strategy = 'mean')\n",
    "imr = imr.fit(train.values)\n",
    "imputed_data = imr.transform(train.values)\n",
    "\n",
    "df_impute = pd.DataFrame(imputed_data)\n",
    "df_impute.columns = train.columns\n",
    "\n",
    "train = df_impute\n",
    "\n",
    "train.to_csv('aftertrain.csv')"
   ]
  },
  {
   "cell_type": "code",
   "execution_count": 159,
   "metadata": {},
   "outputs": [],
   "source": [
    "#train = train.drop(labels = train.columns[train.corr()['Weather'].abs() < 0.05], axis = 1)"
   ]
  },
  {
   "cell_type": "code",
   "execution_count": 1,
   "metadata": {},
   "outputs": [
    {
     "ename": "NameError",
     "evalue": "name 'train' is not defined",
     "output_type": "error",
     "traceback": [
      "\u001b[1;31m---------------------------------------------------------------------------\u001b[0m",
      "\u001b[1;31mNameError\u001b[0m                                 Traceback (most recent call last)",
      "Cell \u001b[1;32mIn[1], line 4\u001b[0m\n\u001b[0;32m      1\u001b[0m \u001b[39mfrom\u001b[39;00m \u001b[39msklearn\u001b[39;00m\u001b[39m.\u001b[39;00m\u001b[39mmodel_selection\u001b[39;00m \u001b[39mimport\u001b[39;00m train_test_split\n\u001b[0;32m      3\u001b[0m X_train, X_val, Y_train, Y_val \u001b[39m=\u001b[39m train_test_split(\n\u001b[1;32m----> 4\u001b[0m     train\u001b[39m.\u001b[39mdrop(columns \u001b[39m=\u001b[39m [\u001b[39m'\u001b[39m\u001b[39mWeather\u001b[39m\u001b[39m'\u001b[39m])\u001b[39m.\u001b[39mvalues[:train_end_idx, :],\n\u001b[0;32m      5\u001b[0m     train[\u001b[39m'\u001b[39m\u001b[39mWeather\u001b[39m\u001b[39m'\u001b[39m]\u001b[39m.\u001b[39mvalues[:train_end_idx], test_size \u001b[39m=\u001b[39m \u001b[39m0.5\u001b[39m)\n\u001b[0;32m      7\u001b[0m \u001b[39m'''\u001b[39;00m\n\u001b[0;32m      8\u001b[0m \u001b[39mX_train = train.drop(columns = ['Weather']).values[:train_end_idx, :]\u001b[39;00m\n\u001b[0;32m      9\u001b[0m \u001b[39mY_train = train['Weather'].values[:train_end_idx]\u001b[39;00m\n\u001b[0;32m     10\u001b[0m \u001b[39m'''\u001b[39;00m\n\u001b[0;32m     12\u001b[0m X_test \u001b[39m=\u001b[39m train\u001b[39m.\u001b[39mdrop(columns \u001b[39m=\u001b[39m [\u001b[39m'\u001b[39m\u001b[39mWeather\u001b[39m\u001b[39m'\u001b[39m])\u001b[39m.\u001b[39mvalues[train_end_idx:, :]\n",
      "\u001b[1;31mNameError\u001b[0m: name 'train' is not defined"
     ]
    }
   ],
   "source": [
    "from sklearn.model_selection import train_test_split\n",
    "\n",
    "X_train, X_val, Y_train, Y_val = train_test_split(\n",
    "    train.drop(columns = ['Weather']).values[:train_end_idx, :],\n",
    "    train['Weather'].values[:train_end_idx], test_size = 0.5)\n",
    "\n",
    "'''\n",
    "X_train = train.drop(columns = ['Weather']).values[:train_end_idx, :]\n",
    "Y_train = train['Weather'].values[:train_end_idx]\n",
    "'''\n",
    "\n",
    "X_test = train.drop(columns = ['Weather']).values[train_end_idx:, :]"
   ]
  },
  {
   "cell_type": "code",
   "execution_count": 161,
   "metadata": {},
   "outputs": [],
   "source": [
    "#X_train, Y_train = RandomUnderSampler().fit_resample(X_train, Y_train)\n",
    "#X_train, Y_train = SMOTE().fit_resample(X_train, Y_train)\n",
    "X_train, Y_train = SMOTEENN().fit_resample(X_train, Y_train)\n",
    "#X_train, Y_train = SMOTETomek().fit_resample(X_train, Y_train)\n"
   ]
  },
  {
   "cell_type": "code",
   "execution_count": 162,
   "metadata": {},
   "outputs": [],
   "source": [
    "#資料標準化\n",
    "sc = StandardScaler()\n",
    "sc.fit(X_train)\n",
    "X_train_std = sc.transform(X_train)\n",
    "X_val_std = sc.transform(X_val)\n",
    "X_test = sc.transform(X_test)"
   ]
  },
  {
   "cell_type": "code",
   "execution_count": 163,
   "metadata": {},
   "outputs": [
    {
     "data": {
      "text/plain": [
       "'\\npca = PCA(n_components = 2)\\nX_train_std = pca.fit_transform(X_train_std)\\nX_val_std = pca.transform(X_val_std)\\nX_test = pca.transform(X_test)\\n'"
      ]
     },
     "execution_count": 163,
     "metadata": {},
     "output_type": "execute_result"
    }
   ],
   "source": [
    "#PCA降維\n",
    "'''\n",
    "pca = PCA(n_components = 2)\n",
    "X_train_std = pca.fit_transform(X_train_std)\n",
    "X_val_std = pca.transform(X_val_std)\n",
    "X_test = pca.transform(X_test)\n",
    "'''"
   ]
  },
  {
   "cell_type": "code",
   "execution_count": 164,
   "metadata": {},
   "outputs": [
    {
     "data": {
      "text/plain": [
       "\"\\nfrom sklearn.neural_network import MLPClassifier\\nmodel= MLPClassifier(alpha = 1e-5, hidden_layer_sizes = (50, 50))\\nmodel.fit(X_train_std, Y_train)\\n\\ny_pred_decision = model.predict(X_val_std)\\nprint('Accuracy: %f' % accuracy_score(Y_val, y_pred_decision))\\nprint('f1-score: %f' % f1_score(Y_val, y_pred_decision))\\n\\nans_pred = model.predict(X_test)\\ndf_sap = pd.DataFrame(ans_pred.astype(int), columns = ['Weather'])\\ndf_sap.to_csv('NeuralNetwork.csv',  index_label = 'Id')\\n\""
      ]
     },
     "execution_count": 164,
     "metadata": {},
     "output_type": "execute_result"
    }
   ],
   "source": [
    "'''\n",
    "from sklearn.neural_network import MLPClassifier\n",
    "model= MLPClassifier(alpha = 1e-5, hidden_layer_sizes = (50, 50))\n",
    "model.fit(X_train_std, Y_train)\n",
    "\n",
    "y_pred_decision = model.predict(X_val_std)\n",
    "print('Accuracy: %f' % accuracy_score(Y_val, y_pred_decision))\n",
    "print('f1-score: %f' % f1_score(Y_val, y_pred_decision))\n",
    "\n",
    "ans_pred = model.predict(X_test)\n",
    "df_sap = pd.DataFrame(ans_pred.astype(int), columns = ['Weather'])\n",
    "df_sap.to_csv('NeuralNetwork.csv',  index_label = 'Id')\n",
    "'''"
   ]
  },
  {
   "cell_type": "code",
   "execution_count": 165,
   "metadata": {},
   "outputs": [
    {
     "name": "stdout",
     "output_type": "stream",
     "text": [
      "Accuracy: 0.848731\n",
      "f1-score: 0.421076\n"
     ]
    },
    {
     "data": {
      "text/plain": [
       "\"\\nprint('特徵重要程度: ',model.feature_importances_)\\n\\ncorrelation = train.corr()\\ninfluence_order=correlation['Weather'].sort_values(ascending=\\nFalse)\\ninfluence_order_abs = abs(correlation['Weather'].sort_values(\\nascending=False))\\nprint(influence_order)\\nprint(influence_order_abs)\\n\""
      ]
     },
     "execution_count": 165,
     "metadata": {},
     "output_type": "execute_result"
    }
   ],
   "source": [
    "from sklearn.ensemble import RandomForestClassifier\n",
    "\n",
    "model = RandomForestClassifier()\n",
    "model.fit(X_train_std, Y_train)\n",
    "\n",
    "y_pred_decision = model.predict(X_val_std)\n",
    "print('Accuracy: %f' % accuracy_score(Y_val, y_pred_decision))\n",
    "print('f1-score: %f' % f1_score(Y_val, y_pred_decision))\n",
    "\n",
    "ans_pred = model.predict(X_test)\n",
    "df_sap = pd.DataFrame(ans_pred.astype(int), columns = ['Weather'])\n",
    "df_sap.to_csv('RandomForest.csv',  index_label = 'Id')\n",
    "'''\n",
    "print('特徵重要程度: ',model.feature_importances_)\n",
    "\n",
    "correlation = train.corr()\n",
    "influence_order=correlation['Weather'].sort_values(ascending=\n",
    "False)\n",
    "influence_order_abs = abs(correlation['Weather'].sort_values(\n",
    "ascending=False))\n",
    "print(influence_order)\n",
    "print(influence_order_abs)\n",
    "'''\n"
   ]
  },
  {
   "cell_type": "code",
   "execution_count": 166,
   "metadata": {},
   "outputs": [
    {
     "data": {
      "text/plain": [
       "\"\\nfrom sklearn import svm\\n\\nmodel = svm.SVC(kernel = 'rbf', C = 2, random_state = 0) \\nmodel.fit(X_train_std, Y_train)\\n\\ny_pred_decision = model.predict(X_val_std)\\nprint('Accuracy: %f' % accuracy_score(Y_val, y_pred_decision))\\nprint('f1-score: %f' % f1_score(Y_val, y_pred_decision))\\n\\nans_pred = model.predict(X_test)\\ndf_sap = pd.DataFrame(ans_pred.astype(int), columns = ['Weather'])\\ndf_sap.to_csv('SVM.csv',  index_label = 'Id')\\n\""
      ]
     },
     "execution_count": 166,
     "metadata": {},
     "output_type": "execute_result"
    }
   ],
   "source": [
    "'''\n",
    "from sklearn import svm\n",
    "\n",
    "model = svm.SVC(kernel = 'rbf', C = 2, random_state = 0) \n",
    "model.fit(X_train_std, Y_train)\n",
    "\n",
    "y_pred_decision = model.predict(X_val_std)\n",
    "print('Accuracy: %f' % accuracy_score(Y_val, y_pred_decision))\n",
    "print('f1-score: %f' % f1_score(Y_val, y_pred_decision))\n",
    "\n",
    "ans_pred = model.predict(X_test)\n",
    "df_sap = pd.DataFrame(ans_pred.astype(int), columns = ['Weather'])\n",
    "df_sap.to_csv('SVM.csv',  index_label = 'Id')\n",
    "'''"
   ]
  },
  {
   "cell_type": "code",
   "execution_count": 167,
   "metadata": {},
   "outputs": [
    {
     "data": {
      "text/plain": [
       "\"\\nfrom sklearn.svm import SVC\\n\\nmodel = SVC(kernel='linear', C=2) \\nmodel.fit(X_train_std, Y_train) \\n\\n#predict\\ny_pred_decision = model.predict(X_val_std)\\nprint('Accuracy: %f' % accuracy_score(Y_val, y_pred_decision))\\nprint('f1-score: %f' % f1_score(Y_val, y_pred_decision))\\n\\nans_pred = model.predict(X_test)\\ndf_sap = pd.DataFrame(ans_pred.astype(int), columns = ['Weather'])\\ndf_sap.to_csv('LinearSVM.csv',  index_label = 'Id')\\n\""
      ]
     },
     "execution_count": 167,
     "metadata": {},
     "output_type": "execute_result"
    }
   ],
   "source": [
    "'''\n",
    "from sklearn.svm import SVC\n",
    "\n",
    "model = SVC(kernel='linear', C=2) \n",
    "model.fit(X_train_std, Y_train) \n",
    "\n",
    "#predict\n",
    "y_pred_decision = model.predict(X_val_std)\n",
    "print('Accuracy: %f' % accuracy_score(Y_val, y_pred_decision))\n",
    "print('f1-score: %f' % f1_score(Y_val, y_pred_decision))\n",
    "\n",
    "ans_pred = model.predict(X_test)\n",
    "df_sap = pd.DataFrame(ans_pred.astype(int), columns = ['Weather'])\n",
    "df_sap.to_csv('LinearSVM.csv',  index_label = 'Id')\n",
    "'''"
   ]
  },
  {
   "cell_type": "code",
   "execution_count": 168,
   "metadata": {},
   "outputs": [
    {
     "data": {
      "text/plain": [
       "\"\\nfrom sklearn.ensemble import AdaBoostClassifier\\n\\nmodel = AdaBoostClassifier(n_estimators = 100, random_state = 0)\\nmodel.fit(X_train_std, Y_train)\\n\\ny_pred_decision = model.predict(X_val_std)\\nprint('Accuracy: %f' % accuracy_score(Y_val, y_pred_decision))\\nprint('f1-score: %f' % f1_score(Y_val, y_pred_decision))\\n\\nans_pred = model.predict(X_test)\\ndf_sap = pd.DataFrame(ans_pred.astype(int), columns = ['Weather'])\\ndf_sap.to_csv('AdaBoost.csv',  index_label = 'Id')\\n\""
      ]
     },
     "execution_count": 168,
     "metadata": {},
     "output_type": "execute_result"
    }
   ],
   "source": [
    "'''\n",
    "from sklearn.ensemble import AdaBoostClassifier\n",
    "\n",
    "model = AdaBoostClassifier(n_estimators = 100, random_state = 0)\n",
    "model.fit(X_train_std, Y_train)\n",
    "\n",
    "y_pred_decision = model.predict(X_val_std)\n",
    "print('Accuracy: %f' % accuracy_score(Y_val, y_pred_decision))\n",
    "print('f1-score: %f' % f1_score(Y_val, y_pred_decision))\n",
    "\n",
    "ans_pred = model.predict(X_test)\n",
    "df_sap = pd.DataFrame(ans_pred.astype(int), columns = ['Weather'])\n",
    "df_sap.to_csv('AdaBoost.csv',  index_label = 'Id')\n",
    "'''"
   ]
  },
  {
   "cell_type": "code",
   "execution_count": 169,
   "metadata": {},
   "outputs": [
    {
     "data": {
      "text/plain": [
       "\"\\nfrom sklearn.ensemble import BaggingClassifier\\n\\nmodel = BaggingClassifier()\\nmodel.fit(X_train_std, Y_train)\\n\\ny_pred_decision = model.predict(X_val_std)\\nprint('Accuracy: %f' % accuracy_score(Y_val, y_pred_decision))\\nprint('f1-score: %f' % f1_score(Y_val, y_pred_decision))\\n\\nans_pred = model.predict(X_test)\\ndf_sap = pd.DataFrame(ans_pred.astype(int), columns = ['Weather'])\\ndf_sap.to_csv('Bagging.csv',  index_label = 'Id')\\n\""
      ]
     },
     "execution_count": 169,
     "metadata": {},
     "output_type": "execute_result"
    }
   ],
   "source": [
    "'''\n",
    "from sklearn.ensemble import BaggingClassifier\n",
    "\n",
    "model = BaggingClassifier()\n",
    "model.fit(X_train_std, Y_train)\n",
    "\n",
    "y_pred_decision = model.predict(X_val_std)\n",
    "print('Accuracy: %f' % accuracy_score(Y_val, y_pred_decision))\n",
    "print('f1-score: %f' % f1_score(Y_val, y_pred_decision))\n",
    "\n",
    "ans_pred = model.predict(X_test)\n",
    "df_sap = pd.DataFrame(ans_pred.astype(int), columns = ['Weather'])\n",
    "df_sap.to_csv('Bagging.csv',  index_label = 'Id')\n",
    "'''"
   ]
  },
  {
   "cell_type": "code",
   "execution_count": 170,
   "metadata": {},
   "outputs": [
    {
     "data": {
      "text/plain": [
       "\"\\nfrom sklearn.tree import DecisionTreeClassifier\\n\\n#train tree model\\nmodel = DecisionTreeClassifier()\\nmodel.fit(X_train_std, Y_train)\\n\\n#predict\\ny_pred_decision = model.predict(X_val_std)\\nprint('Accuracy: %f' % accuracy_score(Y_val, y_pred_decision))\\nprint('f1-score: %f' % f1_score(Y_val, y_pred_decision))\\n\\nans_pred = model.predict(X_test)\\ndf_sap = pd.DataFrame(ans_pred.astype(int), columns = ['Weather'])\\ndf_sap.to_csv('DecisionTree.csv',  index_label = 'Id')\\n\""
      ]
     },
     "execution_count": 170,
     "metadata": {},
     "output_type": "execute_result"
    }
   ],
   "source": [
    "'''\n",
    "from sklearn.tree import DecisionTreeClassifier\n",
    "\n",
    "#train tree model\n",
    "model = DecisionTreeClassifier()\n",
    "model.fit(X_train_std, Y_train)\n",
    "\n",
    "#predict\n",
    "y_pred_decision = model.predict(X_val_std)\n",
    "print('Accuracy: %f' % accuracy_score(Y_val, y_pred_decision))\n",
    "print('f1-score: %f' % f1_score(Y_val, y_pred_decision))\n",
    "\n",
    "ans_pred = model.predict(X_test)\n",
    "df_sap = pd.DataFrame(ans_pred.astype(int), columns = ['Weather'])\n",
    "df_sap.to_csv('DecisionTree.csv',  index_label = 'Id')\n",
    "'''"
   ]
  },
  {
   "cell_type": "code",
   "execution_count": 171,
   "metadata": {},
   "outputs": [
    {
     "data": {
      "text/plain": [
       "\"\\nfrom sklearn.neighbors import KNeighborsClassifier\\nmodel = KNeighborsClassifier(n_neighbors = 5, p = 2)\\nmodel.fit(X_train_std, Y_train)\\n\\ny_pred_decision = model.predict(X_val_std)\\nprint('Accuracy: %f' % accuracy_score(Y_val, y_pred_decision))\\nprint('f1-score: %f' % f1_score(Y_val, y_pred_decision))\\n\\nans_pred = model.predict(X_test)\\ndf_sap = pd.DataFrame(ans_pred.astype(int), columns = ['Weather'])\\ndf_sap.to_csv('KNeighbors.csv',  index_label = 'Id')\\n\""
      ]
     },
     "execution_count": 171,
     "metadata": {},
     "output_type": "execute_result"
    }
   ],
   "source": [
    "\n",
    "'''\n",
    "from sklearn.neighbors import KNeighborsClassifier\n",
    "model = KNeighborsClassifier(n_neighbors = 5, p = 2)\n",
    "model.fit(X_train_std, Y_train)\n",
    "\n",
    "y_pred_decision = model.predict(X_val_std)\n",
    "print('Accuracy: %f' % accuracy_score(Y_val, y_pred_decision))\n",
    "print('f1-score: %f' % f1_score(Y_val, y_pred_decision))\n",
    "\n",
    "ans_pred = model.predict(X_test)\n",
    "df_sap = pd.DataFrame(ans_pred.astype(int), columns = ['Weather'])\n",
    "df_sap.to_csv('KNeighbors.csv',  index_label = 'Id')\n",
    "'''"
   ]
  }
 ],
 "metadata": {
  "kernelspec": {
   "display_name": "Python 3",
   "language": "python",
   "name": "python3"
  },
  "language_info": {
   "codemirror_mode": {
    "name": "ipython",
    "version": 3
   },
   "file_extension": ".py",
   "mimetype": "text/x-python",
   "name": "python",
   "nbconvert_exporter": "python",
   "pygments_lexer": "ipython3",
   "version": "3.9.0"
  },
  "orig_nbformat": 4,
  "vscode": {
   "interpreter": {
    "hash": "43a82d739f1eb9409db2f95fa359c2d6c9c565ef5b6bf0c77358be7498027c7f"
   }
  }
 },
 "nbformat": 4,
 "nbformat_minor": 2
}
